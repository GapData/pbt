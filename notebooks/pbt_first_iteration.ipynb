{
 "cells": [
  {
   "cell_type": "raw",
   "metadata": {},
   "source": [
    "<script>\n",
    "  function code_toggle() {\n",
    "    if (code_shown){\n",
    "      $('div.input').hide('500');\n",
    "      $('#toggleButton').val('Show Code')\n",
    "    } else {\n",
    "      $('div.input').show('500');\n",
    "      $('#toggleButton').val('Hide Code')\n",
    "    }\n",
    "    code_shown = !code_shown\n",
    "  }\n",
    "\n",
    "  $( document ).ready(function(){\n",
    "    code_shown=false;\n",
    "    $('div.input').hide()\n",
    "  });\n",
    "</script>\n",
    "<form action=\"javascript:code_toggle()\"><input type=\"submit\" id=\"toggleButton\" value=\"Show Code\"></form>"
   ]
  },
  {
   "cell_type": "markdown",
   "metadata": {
    "collapsed": true
   },
   "source": [
    "# Population-based training\n",
    "\n",
    "An individual in the population consists of a set of hyperparameters (we want to find the best such hyperparameters along the way) and a model (a state that changes throughout training). We can train an individual and receive a performance evaluation.\n",
    "Now and then, when we can decide to compare an individual to the remainder of the population and depending on the result, we can decide to exploit other individuals (by copying over their model or their hyperparameters) and/or to explore our hyperparameters.\n",
    "\n",
    "Note: Exploitation of model and hyperparameters separately requires that models for different hyperparameters are compatible with each other.\n"
   ]
  },
  {
   "cell_type": "markdown",
   "metadata": {},
   "source": [
    "# First API iteration"
   ]
  },
  {
   "cell_type": "code",
   "execution_count": null,
   "metadata": {
    "ExecuteTime": {
     "end_time": "2018-01-07T01:20:05.585896Z",
     "start_time": "2018-01-07T01:20:05.538862Z"
    }
   },
   "outputs": [],
   "source": [
    "import abc\n",
    "import typing\n",
    "\n",
    "class Individual(abc.ABC):   \n",
    "    @abc.abstractmethod\n",
    "    def step(self):\n",
    "        pass\n",
    "    \n",
    "    @property\n",
    "    @abc.abstractmethod\n",
    "    def performance(self) -> float:\n",
    "        pass\n",
    "\n",
    "    @property\n",
    "    @abc.abstractmethod\n",
    "    def is_ready(self) -> bool:\n",
    "        pass\n",
    "    \n",
    "    @abc.abstractmethod\n",
    "    def explore(self):\n",
    "        pass\n",
    "    \n",
    "    @abc.abstractmethod\n",
    "    def exploit(self, population: 'Population'):\n",
    "        pass\n",
    "    \n",
    "    \n",
    "class Population(abc.ABC):\n",
    "    @property\n",
    "    @abc.abstractmethod\n",
    "    def individuals(self) -> typing.List[Individual]:\n",
    "        pass\n",
    "    \n",
    "    @abc.abstractmethod\n",
    "    def is_underperformer(self, individual: Individual) -> bool:\n",
    "        pass\n",
    "          \n",
    "    def evolve(self, num_steps):\n",
    "        for _ in range(num_steps):\n",
    "            for individual in self.individuals:\n",
    "                individual.step()\n",
    "                if individual.is_ready() and population.is_underperformer(individual):\n",
    "                    individual.exploit(population)\n",
    "                    individual.explore()\n",
    "        \n",
    "                "
   ]
  },
  {
   "cell_type": "markdown",
   "metadata": {},
   "source": [
    "## Critique\n",
    "\n",
    "* Individual steps prevent batching of steps across the population\n",
    "* What about early stopping?\n",
    "* The workers=2 example makes it hard to break symmetries"
   ]
  },
  {
   "cell_type": "code",
   "execution_count": 256,
   "metadata": {
    "ExecuteTime": {
     "end_time": "2018-01-07T10:08:41.937065Z",
     "start_time": "2018-01-07T10:08:41.759560Z"
    }
   },
   "outputs": [],
   "source": [
    "import numpy as np\n",
    "\n",
    "\n",
    "class HistoryItem(typing.NamedTuple):\n",
    "    loss: np.ndarray\n",
    "    theta: np.ndarray\n",
    "    h: np.ndarray\n",
    "\n",
    "\n",
    "def format_with__dict__(instance: object):\n",
    "    \"\"\"Format all the fields of an object.\"\"\"\n",
    "    object_class = instance.__class__\n",
    "    return '%s.%s(%s)' % (object_class.__module__, object_class.__name__,\n",
    "                          ','.join([\n",
    "                              '%s=%r' % (name, value)\n",
    "                              for name, value in instance.__dict__.items()\n",
    "                          ]))\n",
    "\n",
    "\n",
    "class ExampleIndividual(Individual):\n",
    "    learning_rate = 0.01\n",
    "    exploration_scale = 0.1\n",
    "\n",
    "    def __init__(self, theta, h):\n",
    "        self.theta = np.copy(theta)\n",
    "        self.h = np.copy(h)\n",
    "        self.steps = 0\n",
    "        self.history = []\n",
    "\n",
    "    def __repr__(self):\n",
    "        return format_with__dict__(self)\n",
    "\n",
    "    @property\n",
    "    def surrogate(self):\n",
    "        return 1.2 - np.dot(np.maximum(self.h, 0.), self.theta**2)\n",
    "\n",
    "    @property\n",
    "    def performance(self):\n",
    "        return 1.2 - np.dot(self.theta, self.theta)\n",
    "\n",
    "    def step(self):\n",
    "        #if self.steps % 4 == 0:\n",
    "        self.history.append(\n",
    "            HistoryItem(self.performance, np.copy(self.theta),\n",
    "                        np.copy(self.h)))\n",
    "\n",
    "        dtheta = -2 * self.h * self.theta\n",
    "        self.theta += self.learning_rate * dtheta\n",
    "        self.steps += 1\n",
    "\n",
    "    def is_ready(self):\n",
    "        return self.steps % 4 == 0\n",
    "\n",
    "    def exploit(self, population: Population):\n",
    "        #other_individual = population.individuals[1] if population.individuals[\n",
    "        #    0] == self else population.individuals[0]\n",
    "        better_individual = next(individual\n",
    "                                 for individual in population.individuals\n",
    "                                 if individual.performance > self.performance)\n",
    "        self.theta = np.copy(better_individual.theta)\n",
    "        #self.h = np.copy(other_individual.h)\n",
    "\n",
    "    def explore(self):\n",
    "        #self.h *= np.random.normal(loc=1.0, scale=self.exploration_scale, size=2)\n",
    "        self.h += np.random.normal(\n",
    "            loc=0., scale=self.exploration_scale, size=2)\n",
    "\n",
    "\n",
    "class ExamplePopulation(Population):\n",
    "    def __init__(self):\n",
    "        super().__init__()\n",
    "        self._individuals = [\n",
    "            ExampleIndividual([0.9, 0.9], [1., 0.1]),\n",
    "            ExampleIndividual([0.9, 0.9], [0.12, 1.]),\n",
    "        ]\n",
    "\n",
    "    @property\n",
    "    def individuals(self):\n",
    "        return self._individuals\n",
    "\n",
    "    def is_underperformer(self, individual: Individual) -> bool:\n",
    "        return individual.performance < max(individual.performance for individual in self.individuals)"
   ]
  },
  {
   "cell_type": "markdown",
   "metadata": {},
   "source": [
    "# Visualization\n"
   ]
  },
  {
   "cell_type": "code",
   "execution_count": 218,
   "metadata": {
    "ExecuteTime": {
     "end_time": "2018-01-07T02:07:47.407929Z",
     "start_time": "2018-01-07T02:07:47.400402Z"
    }
   },
   "outputs": [],
   "source": [
    "import matplotlib.pyplot as plt\n",
    "from matplotlib.colors import BoundaryNorm\n",
    "from matplotlib.ticker import MaxNLocator\n",
    "\n",
    "%matplotlib inline"
   ]
  },
  {
   "cell_type": "code",
   "execution_count": 225,
   "metadata": {
    "ExecuteTime": {
     "end_time": "2018-01-07T09:50:48.479247Z",
     "start_time": "2018-01-07T09:50:48.410277Z"
    }
   },
   "outputs": [],
   "source": [
    "def plot_population(population):\n",
    "    # make these smaller to increase the resolution\n",
    "    dx, dy = 0.05, 0.05\n",
    "\n",
    "    # generate 2 2d grids for the x & y bounds\n",
    "    theta1, theta0 = np.mgrid[slice(0, 1 + dy, dy),\n",
    "                    slice(0, 1 + dx, dx)]\n",
    "\n",
    "    z = 1.2 - (theta0**2 + theta1**2)\n",
    "\n",
    "    # x and y are bounds, so z should be the value *inside* those bounds.\n",
    "    # Therefore, remove the last value from the z array.\n",
    "    z = z[:-1, :-1]\n",
    "    levels = MaxNLocator(nbins=15).tick_values(z.min(), z.max())\n",
    "\n",
    "\n",
    "    # pick the desired colormap, sensible levels, and define a normalization\n",
    "    # instance which takes data values and translates those into levels.\n",
    "    cmap = plt.get_cmap('PiYG')\n",
    "    norm = BoundaryNorm(levels, ncolors=cmap.N, clip=True)\n",
    "\n",
    "    fig, ax1 = plt.subplots(nrows=1)\n",
    "\n",
    "\n",
    "    # contours are *point* based plots, so convert our bound into point\n",
    "    # centers\n",
    "    cf = ax1.contourf(theta0[:-1, :-1] + dx/2.,\n",
    "                      theta1[:-1, :-1] + dy/2., z, levels=levels,\n",
    "                      cmap=cmap)\n",
    "    fig.colorbar(cf, ax=ax1)\n",
    "    ax1.set_title('Loss')\n",
    "\n",
    "    i0_history = list(map(np.copy, zip(*population.individuals[0].history)))\n",
    "    i1_history = list(map(np.copy, zip(*population.individuals[1].history)))\n",
    "\n",
    "    dot_size = 10*(1.+np.array(range(len(i0_history[0]))))**-0.5\n",
    "    ax1.scatter(i0_history[1][:,0], i0_history[1][:,1], s=dot_size)\n",
    "    ax1.scatter(i1_history[1][:,0], i1_history[1][:,1], s=dot_size)\n",
    "\n",
    "    # adjust spacing between subplots so `ax1` title and `ax0` tick labels\n",
    "    # don't overlap\n",
    "    fig.tight_layout()\n",
    "\n",
    "    plt.show()"
   ]
  },
  {
   "cell_type": "code",
   "execution_count": 259,
   "metadata": {
    "ExecuteTime": {
     "end_time": "2018-01-07T10:08:49.368947Z",
     "start_time": "2018-01-07T10:08:49.191430Z"
    },
    "scrolled": true
   },
   "outputs": [
    {
     "data": {
      "image/png": "[encoded data removed]",
      "text/plain": [
       "<matplotlib.figure.Figure at 0x16e38b1a470>"
      ]
     },
     "metadata": {},
     "output_type": "display_data"
    }
   ],
   "source": [
    "population = ExamplePopulation()\n",
    "\n",
    "population.evolve(100)\n",
    "\n",
    "plot_population(population)\n"
   ]
  }
 ],
 "metadata": {
  "kernelspec": {
   "display_name": "Python 3",
   "language": "python",
   "name": "python3"
  },
  "language_info": {
   "codemirror_mode": {
    "name": "ipython",
    "version": 3
   },
   "file_extension": ".py",
   "mimetype": "text/x-python",
   "name": "python",
   "nbconvert_exporter": "python",
   "pygments_lexer": "ipython3",
   "version": "3.6.3"
  },
  "varInspector": {
   "cols": {
    "lenName": 16.0,
    "lenType": 16.0,
    "lenVar": 40.0
   },
   "kernels_config": {
    "python": {
     "delete_cmd_postfix": "",
     "delete_cmd_prefix": "del ",
     "library": "var_list.py",
     "varRefreshCmd": "print(var_dic_list())"
    },
    "r": {
     "delete_cmd_postfix": ") ",
     "delete_cmd_prefix": "rm(",
     "library": "var_list.r",
     "varRefreshCmd": "cat(var_dic_list()) "
    }
   },
   "types_to_exclude": [
    "module",
    "function",
    "builtin_function_or_method",
    "instance",
    "_Feature"
   ],
   "window_display": false
  }
 },
 "nbformat": 4,
 "nbformat_minor": 1
}
